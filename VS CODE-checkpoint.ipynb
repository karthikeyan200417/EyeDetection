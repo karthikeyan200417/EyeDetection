{
 "cells": [
  {
   "cell_type": "code",
   "execution_count": 6,
   "id": "4b173baa",
   "metadata": {},
   "outputs": [
    {
     "ename": "TypeError",
     "evalue": "_BasePCA.transform() missing 1 required positional argument: 'X'",
     "output_type": "error",
     "traceback": [
      "\u001b[1;31m---------------------------------------------------------------------------\u001b[0m",
      "\u001b[1;31mTypeError\u001b[0m                                 Traceback (most recent call last)",
      "Cell \u001b[1;32mIn[6], line 65\u001b[0m\n\u001b[0;32m     61\u001b[0m \u001b[38;5;66;03m# pca_transformer = joblib.load('pca_transformer.pkl')\u001b[39;00m\n\u001b[0;32m     62\u001b[0m \n\u001b[0;32m     63\u001b[0m \u001b[38;5;66;03m# Example usage\u001b[39;00m\n\u001b[0;32m     64\u001b[0m example_image_path \u001b[38;5;241m=\u001b[39m \u001b[38;5;124m'\u001b[39m\u001b[38;5;124mdata/eye/1.jpeg\u001b[39m\u001b[38;5;124m'\u001b[39m  \u001b[38;5;66;03m# Replace with your image path\u001b[39;00m\n\u001b[1;32m---> 65\u001b[0m \u001b[43mpredict_eye\u001b[49m\u001b[43m(\u001b[49m\u001b[43mexample_image_path\u001b[49m\u001b[43m,\u001b[49m\u001b[43m \u001b[49m\u001b[43msvm_model\u001b[49m\u001b[43m)\u001b[49m\n",
      "Cell \u001b[1;32mIn[6], line 48\u001b[0m, in \u001b[0;36mpredict_eye\u001b[1;34m(image_path, svm_classifier)\u001b[0m\n\u001b[0;32m     45\u001b[0m     \u001b[38;5;28;01mreturn\u001b[39;00m\n\u001b[0;32m     47\u001b[0m hog_features \u001b[38;5;241m=\u001b[39m np\u001b[38;5;241m.\u001b[39marray([feat[\u001b[38;5;241m1\u001b[39m] \u001b[38;5;28;01mfor\u001b[39;00m feat \u001b[38;5;129;01min\u001b[39;00m features])\n\u001b[1;32m---> 48\u001b[0m hog_features_pca \u001b[38;5;241m=\u001b[39m \u001b[43mPCA\u001b[49m\u001b[38;5;241;43m.\u001b[39;49m\u001b[43mtransform\u001b[49m\u001b[43m(\u001b[49m\u001b[43mhog_features\u001b[49m\u001b[43m)\u001b[49m\n\u001b[0;32m     49\u001b[0m predictions \u001b[38;5;241m=\u001b[39m svm_classifier\u001b[38;5;241m.\u001b[39mpredict(hog_features_pca)\n\u001b[0;32m     51\u001b[0m \u001b[38;5;28;01mfor\u001b[39;00m i, prediction \u001b[38;5;129;01min\u001b[39;00m \u001b[38;5;28menumerate\u001b[39m(predictions):\n",
      "\u001b[1;31mTypeError\u001b[0m: _BasePCA.transform() missing 1 required positional argument: 'X'"
     ]
    }
   ],
   "source": [
    "import os\n",
    "import cv2\n",
    "import numpy as np\n",
    "from skimage.feature import hog\n",
    "import joblib\n",
    "from sklearn.decomposition import PCA\n",
    "\n",
    "# Load the pre-trained Haar cascade for eye detection\n",
    "eye_cascade = cv2.CascadeClassifier(cv2.data.haarcascades + 'haarcascade_eye.xml')\n",
    "\n",
    "# Function to extract HOG features from an image\n",
    "def extract_hog_features(image):\n",
    "    gray = cv2.cvtColor(image, cv2.COLOR_BGR2GRAY)\n",
    "    resized_image = cv2.resize(gray, (64, 64))\n",
    "    hog_features = hog(resized_image, orientations=9, pixels_per_cell=(8, 8),\n",
    "                       cells_per_block=(2, 2), block_norm='L2-Hys', visualize=False, transform_sqrt=True)\n",
    "    return hog_features\n",
    "\n",
    "# Function to segment eye image and extract features\n",
    "def segment_and_extract_features(image_path, sample):\n",
    "    image = cv2.imread(image_path)\n",
    "    gray = cv2.cvtColor(image, cv2.COLOR_BGR2GRAY)\n",
    "    eyes = eye_cascade.detectMultiScale(gray, scaleFactor=1.3, minNeighbors=5)\n",
    "    eye_features = []\n",
    "    \n",
    "    for (ex, ey, ew, eh) in eyes:\n",
    "        eye_region = image[ey:ey+eh, ex:ex+ew]\n",
    "        hog_features = extract_hog_features(eye_region)\n",
    "        eye_features.append((eye_region, hog_features))\n",
    "    \n",
    "    return eye_features if len(eye_features) > 0 else None\n",
    "\n",
    "# Function to predict using the deployed SVM model\n",
    "def predict_eye(image_path, svm_classifier):\n",
    "    image = cv2.imread(image_path)\n",
    "    \n",
    "    if image is None:\n",
    "        print(\"Error: Could not load image.\")\n",
    "        return\n",
    "    \n",
    "    features = segment_and_extract_features(image_path, sample=0)\n",
    "    \n",
    "    if not features:\n",
    "        print(\"No eyes detected in the image.\")\n",
    "        return\n",
    "    \n",
    "    hog_features = np.array([feat[1] for feat in features])\n",
    "    hog_features_pca = PCA.transform(hog_features)\n",
    "    predictions = svm_classifier.predict(hog_features_pca)\n",
    "    \n",
    "    for i, prediction in enumerate(predictions):\n",
    "        if prediction == 1:\n",
    "            print(f\"Eye {i + 1}: Detected as an Eye\")\n",
    "        else:\n",
    "            print(f\"Eye {i + 1}: Detected as Non-Eye\")\n",
    "    \n",
    "    return predictions\n",
    "\n",
    "# Load the trained SVM classifier and PCA transformer\n",
    "svm_model = joblib.load('svm_classifier.pkl')\n",
    "# pca_transformer = joblib.load('pca_transformer.pkl')\n",
    "\n",
    "# Example usage\n",
    "example_image_path = 'data/eye/1.jpeg'  # Replace with your image path\n",
    "predict_eye(example_image_path, svm_model)\n"
   ]
  },
  {
   "cell_type": "code",
   "execution_count": null,
   "id": "84f1e2ce",
   "metadata": {},
   "outputs": [],
   "source": []
  }
 ],
 "metadata": {
  "kernelspec": {
   "display_name": "Python 3 (ipykernel)",
   "language": "python",
   "name": "python3"
  },
  "language_info": {
   "codemirror_mode": {
    "name": "ipython",
    "version": 3
   },
   "file_extension": ".py",
   "mimetype": "text/x-python",
   "name": "python",
   "nbconvert_exporter": "python",
   "pygments_lexer": "ipython3",
   "version": "3.10.9"
  }
 },
 "nbformat": 4,
 "nbformat_minor": 5
}
